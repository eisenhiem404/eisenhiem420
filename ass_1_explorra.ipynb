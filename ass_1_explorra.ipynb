{
 "cells": [
  {
   "cell_type": "code",
   "execution_count": 5,
   "metadata": {},
   "outputs": [],
   "source": [
    "class base:\n",
    "    def __init__(self,val=None):\n",
    "        self.head=None\n",
    "        self.tail=None\n",
    "        if val!=None:\n",
    "            self.val=val\n",
    "        else:\n",
    "            self.val=None\n",
    "        self.left=None\n",
    "        self.right=None\n",
    "        self.stack=[]\n",
    "        self.que=[]\n",
    "        self.count=0\n",
    "        self.fromt=0\n",
    "    def NodeLL(self,value=None):\n",
    "        self.value=value\n",
    "        self.next=None\n",
    "        \n",
    "class Node(base):\n",
    "    def __init__(self,value=None):\n",
    "        base.NodeLL(self,value)\n",
    "class linked_list(base):        \n",
    "    def createSll(self,value):\n",
    "        node=Node(value)\n",
    "        self.head=node\n",
    "        self.tail=node\n",
    "    def insertSll(self,value,location):\n",
    "        if self.head==None:\n",
    "            return \"The head reference is none \"\n",
    "        else: \n",
    "            newNode=Node(value)\n",
    "            if location ==0:\n",
    "                newNode.next=self.head\n",
    "                self.head=newNode\n",
    "            elif location == -1:\n",
    "                newNode.next= None\n",
    "                self.tail.next=newNode\n",
    "                self.tail=newNode\n",
    "            else:\n",
    "                tempNode=self.head\n",
    "                index=0\n",
    "                while index<location -1:\n",
    "                    tempNode=tempNode.next\n",
    "                    index+=1\n",
    "                nextNode= tempNode.next\n",
    "                tempNode.next=newNode\n",
    "                newNode.next=nextNode\n",
    "                if tempNode==self.tail:\n",
    "                    self.tail=newNode\n",
    "            return \"Successfully inserted\"\n",
    "    def traverseSll(self):\n",
    "        if self.head is None:\n",
    "            print(\"the sll does not exist\")\n",
    "        else:\n",
    "            node=self.head\n",
    "            while node is not None:\n",
    "                print(node.value)\n",
    "                node=node.next\n",
    "                \n",
    "class Tree:\n",
    "    def __init__(self, val = None):\n",
    "        base.__init__(self,val)\n",
    "\n",
    "    def insert(self, val):\n",
    "        if self.val:\n",
    "            if val < self.val:\n",
    "                if self.left is None:\n",
    "                    self.left = Tree(val)\n",
    "                else:\n",
    "                    self.left.insert(val)\n",
    "            elif val > self.val:\n",
    "                if self.right is None:\n",
    "                    self.right = Tree(val)\n",
    "                else:\n",
    "                    self.right.insert(val)\n",
    "        else:\n",
    "            self.val = val\n",
    "    def printValues(self):\n",
    "        if self.left:\n",
    "            self.left.printValues()\n",
    "\n",
    "        print(self.val)\n",
    "\n",
    "        if self.right:\n",
    "            self.right.printValues()\n",
    "\n",
    "class stack(base):\n",
    "    def __init__(self):\n",
    "        base.__init__(self)\n",
    "    def push(self,my_data):\n",
    "        self.stack.append(my_data)\n",
    "    def pop(self):\n",
    "        return self.stack.pop()\n",
    "    def printS(self):\n",
    "        return self.stack\n",
    "    def is_empty(self):\n",
    "        return self.stack==[]\n",
    "\n",
    "class queue(base):\n",
    "    def __init__(self):\n",
    "        base.__init__(self)\n",
    "    def enqueue(self,item):\n",
    "        self.que.append(item)\n",
    "        self.count+=1\n",
    "    def is_empty(self):\n",
    "        return self.que==[]\n",
    "    def dequeue(self):\n",
    "        return self.que.pop(0)\n",
    "\n",
    "    def size(self):\n",
    "        return self.count\n",
    "    def printq(self):\n",
    "        return self.que\n"
   ]
  },
  {
   "cell_type": "code",
   "execution_count": 6,
   "metadata": {},
   "outputs": [
    {
     "name": "stdout",
     "output_type": "stream",
     "text": [
      "10\n",
      "20\n",
      "30\n"
     ]
    }
   ],
   "source": [
    "my_tree=Tree(10)\n",
    "\n",
    "my_tree.insert(20)\n",
    "\n",
    "my_tree.insert(30)\n",
    "\n",
    "my_tree.printValues()"
   ]
  },
  {
   "cell_type": "code",
   "execution_count": 7,
   "metadata": {},
   "outputs": [
    {
     "data": {
      "text/plain": [
       "'Successfully inserted'"
      ]
     },
     "execution_count": 7,
     "metadata": {},
     "output_type": "execute_result"
    }
   ],
   "source": [
    "single=linked_list()\n",
    "\n",
    "single.createSll(1)\n",
    "\n",
    "single.insertSll(2,-1)\n",
    "\n",
    "single.insertSll(3,-1)"
   ]
  },
  {
   "cell_type": "code",
   "execution_count": 8,
   "metadata": {},
   "outputs": [
    {
     "name": "stdout",
     "output_type": "stream",
     "text": [
      "the sll does not exist\n"
     ]
    }
   ],
   "source": [
    "single.traverseSll()"
   ]
  },
  {
   "cell_type": "code",
   "execution_count": null,
   "metadata": {},
   "outputs": [
    {
     "name": "stdout",
     "output_type": "stream",
     "text": [
      "push <value>\n",
      "pop\n",
      "print\n",
      "quit\n",
      "What would you like to do? 789\n",
      "push <value>\n",
      "pop\n",
      "print\n",
      "quit\n",
      "What would you like to do? 78\n",
      "push <value>\n",
      "pop\n",
      "print\n",
      "quit\n",
      "What would you like to do? 789\n",
      "push <value>\n",
      "pop\n",
      "print\n",
      "quit\n",
      "What would you like to do? 789\n",
      "push <value>\n",
      "pop\n",
      "print\n",
      "quit\n"
     ]
    }
   ],
   "source": [
    "s = stack()\n",
    "while True:\n",
    "    print('push <value>')\n",
    "    print('pop')\n",
    "    print('print')\n",
    "    print('quit')\n",
    "    do = input('What would you like to do? ').split()\n",
    " \n",
    "    operation = do[0].strip().lower()\n",
    "    if operation == 'push':\n",
    "        s.push(int(do[1]))\n",
    "    elif operation == 'pop':\n",
    "        if s.is_empty():\n",
    "            print('Stack is empty.')\n",
    "        else:\n",
    "            print('Popped value: ', s.pop())\n",
    "    elif operation=='print':\n",
    "        print(s.printS())\n",
    "    elif operation == 'quit':\n",
    "        break"
   ]
  },
  {
   "cell_type": "code",
   "execution_count": 6,
   "metadata": {},
   "outputs": [
    {
     "name": "stdout",
     "output_type": "stream",
     "text": [
      "\n",
      "enqueue <value>\n",
      "dequeue\n",
      "count\n",
      "print\n",
      "quit\n",
      "What would you like to do? qui\n",
      "\n",
      "enqueue <value>\n",
      "dequeue\n",
      "count\n",
      "print\n",
      "quit\n",
      "What would you like to do? quit\n"
     ]
    }
   ],
   "source": [
    "q = queue()\n",
    "while True:\n",
    "    \n",
    "    print('\\nenqueue <value>')\n",
    "    print('dequeue')\n",
    "    print('count')\n",
    "    print('print')\n",
    "    print('quit')\n",
    "    \n",
    "    do = input('What would you like to do? ').split()\n",
    " \n",
    "    operation = do[0].strip().lower()\n",
    "    if operation == 'enqueue':\n",
    "        q.enqueue(int(do[1]))\n",
    "    elif operation == 'dequeue':\n",
    "        if q.is_empty():\n",
    "            print('Queue is empty.')\n",
    "        else:\n",
    "            print('Dequeued value: ', q.dequeue())\n",
    "    elif operation=='print':\n",
    "        print(q.printq())\n",
    "    elif operation == 'count':\n",
    "        print(q.size())\n",
    "    elif operation == 'quit':\n",
    "        break"
   ]
  },
  {
   "cell_type": "code",
   "execution_count": null,
   "metadata": {},
   "outputs": [],
   "source": []
  }
 ],
 "metadata": {
  "kernelspec": {
   "display_name": "Python 3 (ipykernel)",
   "language": "python",
   "name": "python3"
  },
  "language_info": {
   "codemirror_mode": {
    "name": "ipython",
    "version": 3
   },
   "file_extension": ".py",
   "mimetype": "text/x-python",
   "name": "python",
   "nbconvert_exporter": "python",
   "pygments_lexer": "ipython3",
   "version": "3.8.3"
  }
 },
 "nbformat": 4,
 "nbformat_minor": 4
}
