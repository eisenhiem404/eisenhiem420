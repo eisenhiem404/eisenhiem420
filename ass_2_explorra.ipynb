{
 "cells": [
  {
   "cell_type": "code",
   "execution_count": 1,
   "id": "86370df9",
   "metadata": {},
   "outputs": [],
   "source": [
    "import math\n",
    "def deg_rad_convertor(x,d):\n",
    "    '''x= angle in radians or degrees\n",
    "       d= sting \"degrees\" or \"radians\" to whichever you want to convert '''\n",
    "    if d==\"degrees\":\n",
    "        a=math.degrees(x)\n",
    "    elif d==\"radians\":\n",
    "        a=math.radians(x)\n",
    "    else:\n",
    "        print(\"wrong parameters\")\n",
    "    return a"
   ]
  },
  {
   "cell_type": "code",
   "execution_count": 2,
   "id": "c969032a",
   "metadata": {},
   "outputs": [
    {
     "data": {
      "text/plain": [
       "179.99999692953102"
      ]
     },
     "execution_count": 2,
     "metadata": {},
     "output_type": "execute_result"
    }
   ],
   "source": [
    "deg_rad_convertor(3.1415926,'degrees')"
   ]
  },
  {
   "cell_type": "code",
   "execution_count": 3,
   "id": "3ed2cf43",
   "metadata": {},
   "outputs": [
    {
     "data": {
      "text/plain": [
       "3.141592653589793"
      ]
     },
     "execution_count": 3,
     "metadata": {},
     "output_type": "execute_result"
    }
   ],
   "source": [
    "deg_rad_convertor(180,\"radians\")"
   ]
  },
  {
   "cell_type": "code",
   "execution_count": 4,
   "id": "fdaad7aa",
   "metadata": {},
   "outputs": [],
   "source": [
    "def sortin(l,p):\n",
    "    if p=='asc':\n",
    "        sorted_list=sorted(l)\n",
    "    elif p=='desc':\n",
    "        sorted_list=sorted(l,reverse=True)\n",
    "    else:\n",
    "        return l\n",
    "    return sorted_list"
   ]
  },
  {
   "cell_type": "code",
   "execution_count": 5,
   "id": "d1dddf99",
   "metadata": {},
   "outputs": [],
   "source": [
    "li=[12,23,3,43]"
   ]
  },
  {
   "cell_type": "code",
   "execution_count": 6,
   "id": "45d0abc9",
   "metadata": {},
   "outputs": [],
   "source": [
    "p=sorted(li,reverse=True)"
   ]
  },
  {
   "cell_type": "code",
   "execution_count": 7,
   "id": "c83133c1",
   "metadata": {},
   "outputs": [
    {
     "name": "stdout",
     "output_type": "stream",
     "text": [
      "[43, 23, 12, 3]\n"
     ]
    }
   ],
   "source": [
    "print(p)"
   ]
  },
  {
   "cell_type": "code",
   "execution_count": 8,
   "id": "e978ed75",
   "metadata": {},
   "outputs": [
    {
     "data": {
      "text/plain": [
       "[43, 23, 12, 3]"
      ]
     },
     "execution_count": 8,
     "metadata": {},
     "output_type": "execute_result"
    }
   ],
   "source": [
    "\n",
    "sortin(li,'desc')"
   ]
  },
  {
   "cell_type": "code",
   "execution_count": 9,
   "id": "cd1301f1",
   "metadata": {},
   "outputs": [
    {
     "data": {
      "text/plain": [
       "[3, 12, 23, 43]"
      ]
     },
     "execution_count": 9,
     "metadata": {},
     "output_type": "execute_result"
    }
   ],
   "source": [
    "sortin(li,'asc')"
   ]
  },
  {
   "cell_type": "code",
   "execution_count": 10,
   "id": "3f39c5ec",
   "metadata": {},
   "outputs": [
    {
     "data": {
      "text/plain": [
       "[12, 23, 3, 43]"
      ]
     },
     "execution_count": 10,
     "metadata": {},
     "output_type": "execute_result"
    }
   ],
   "source": [
    "sortin(li,'none')"
   ]
  },
  {
   "cell_type": "code",
   "execution_count": 11,
   "id": "22e53ab6",
   "metadata": {},
   "outputs": [],
   "source": [
    "def d_to_b(x):\n",
    "    if x<1024:\n",
    "        return (bin(x))\n",
    "    else: \n",
    "        pass"
   ]
  },
  {
   "cell_type": "code",
   "execution_count": 12,
   "id": "58dba525",
   "metadata": {},
   "outputs": [
    {
     "data": {
      "text/plain": [
       "'0b1000'"
      ]
     },
     "execution_count": 12,
     "metadata": {},
     "output_type": "execute_result"
    }
   ],
   "source": [
    "d_to_b(8)"
   ]
  },
  {
   "cell_type": "code",
   "execution_count": 13,
   "id": "6bb33340",
   "metadata": {},
   "outputs": [],
   "source": [
    "def count_vowels(um):\n",
    "    vowels=['a','e','i','o','u']\n",
    "    count=0\n",
    "    for i in um.lower():\n",
    "        if i in vowels:\n",
    "            count+=1\n",
    "    return count"
   ]
  },
  {
   "cell_type": "code",
   "execution_count": 14,
   "id": "1ca407ab",
   "metadata": {},
   "outputs": [
    {
     "data": {
      "text/plain": [
       "3"
      ]
     },
     "execution_count": 14,
     "metadata": {},
     "output_type": "execute_result"
    }
   ],
   "source": [
    "count_vowels('animesh')"
   ]
  },
  {
   "cell_type": "code",
   "execution_count": 15,
   "id": "ac295aec",
   "metadata": {},
   "outputs": [],
   "source": [
    "def crd_hash(number):\n",
    "    no=list(str(number))\n",
    "    l=[]\n",
    "    if len(no)<=16 and type(number)==int:\n",
    "        for i in range(len(no)):\n",
    "            if i < (len(no)-4):\n",
    "                l.append('*')\n",
    "            else:\n",
    "                l.append(no[i])  \n",
    "    else:\n",
    "        print('enter proper card number')\n",
    "    return ''.join(l)"
   ]
  },
  {
   "cell_type": "code",
   "execution_count": 16,
   "id": "d3e5a229",
   "metadata": {},
   "outputs": [
    {
     "data": {
      "text/plain": [
       "'****4455'"
      ]
     },
     "execution_count": 16,
     "metadata": {},
     "output_type": "execute_result"
    }
   ],
   "source": [
    "crd_hash(12314455)"
   ]
  },
  {
   "cell_type": "code",
   "execution_count": 17,
   "id": "427ec17d",
   "metadata": {},
   "outputs": [],
   "source": [
    "def x_eq_o(s):\n",
    "    x=s.count('x')\n",
    "    o=s.count('o')\n",
    "    if x==o:\n",
    "        return True\n",
    "    else: \n",
    "        return False"
   ]
  },
  {
   "cell_type": "code",
   "execution_count": 18,
   "id": "b08283b2",
   "metadata": {},
   "outputs": [
    {
     "data": {
      "text/plain": [
       "True"
      ]
     },
     "execution_count": 18,
     "metadata": {},
     "output_type": "execute_result"
    }
   ],
   "source": [
    "x_eq_o('xxxxoooo')"
   ]
  },
  {
   "cell_type": "code",
   "execution_count": 19,
   "id": "e0399bac",
   "metadata": {},
   "outputs": [
    {
     "data": {
      "text/plain": [
       "False"
      ]
     },
     "execution_count": 19,
     "metadata": {},
     "output_type": "execute_result"
    }
   ],
   "source": [
    "x_eq_o('xxxxooo')"
   ]
  },
  {
   "cell_type": "code",
   "execution_count": 20,
   "id": "1ee7eeaf",
   "metadata": {},
   "outputs": [],
   "source": [
    "def calcu(a,o,b):\n",
    "    if o == '+':\n",
    "        return a+b\n",
    "    elif o=='-':\n",
    "        return a-b\n",
    "    elif o== '.':\n",
    "        return a*b\n",
    "    elif o== '/':\n",
    "        return a/b\n",
    "    else:\n",
    "        return 'enter correct arguement for operand'"
   ]
  },
  {
   "cell_type": "code",
   "execution_count": 28,
   "id": "ce520c51",
   "metadata": {},
   "outputs": [
    {
     "data": {
      "text/plain": [
       "26"
      ]
     },
     "execution_count": 28,
     "metadata": {},
     "output_type": "execute_result"
    }
   ],
   "source": [
    "calcu(12,'+',14)"
   ]
  },
  {
   "cell_type": "code",
   "execution_count": 29,
   "id": "ebf42bb6",
   "metadata": {},
   "outputs": [
    {
     "data": {
      "text/plain": [
       "6"
      ]
     },
     "execution_count": 29,
     "metadata": {},
     "output_type": "execute_result"
    }
   ],
   "source": [
    "calcu(12,'-',6)"
   ]
  },
  {
   "cell_type": "code",
   "execution_count": 31,
   "id": "95eb9dc2",
   "metadata": {},
   "outputs": [
    {
     "data": {
      "text/plain": [
       "44"
      ]
     },
     "execution_count": 31,
     "metadata": {},
     "output_type": "execute_result"
    }
   ],
   "source": [
    "calcu(11,'.',4)"
   ]
  },
  {
   "cell_type": "code",
   "execution_count": 32,
   "id": "eff705a2",
   "metadata": {},
   "outputs": [
    {
     "data": {
      "text/plain": [
       "2.0"
      ]
     },
     "execution_count": 32,
     "metadata": {},
     "output_type": "execute_result"
    }
   ],
   "source": [
    "calcu(10,'/',5)"
   ]
  },
  {
   "cell_type": "code",
   "execution_count": 21,
   "id": "8ae1a413",
   "metadata": {},
   "outputs": [],
   "source": [
    "def dis_me(mrp,per):\n",
    "    sp=mrp-(mrp*(per/100))\n",
    "    return sp"
   ]
  },
  {
   "cell_type": "code",
   "execution_count": 22,
   "id": "c3ea2fd4",
   "metadata": {},
   "outputs": [
    {
     "data": {
      "text/plain": [
       "75.0"
      ]
     },
     "execution_count": 22,
     "metadata": {},
     "output_type": "execute_result"
    }
   ],
   "source": [
    "dis_me(100,25)"
   ]
  },
  {
   "cell_type": "code",
   "execution_count": 23,
   "id": "0e00679a",
   "metadata": {},
   "outputs": [],
   "source": [
    "def only_num(l):\n",
    "    p=[]\n",
    "    for i in l:\n",
    "        if type(i)==str:\n",
    "            pass\n",
    "        else:\n",
    "            p.append(i)\n",
    "    return p"
   ]
  },
  {
   "cell_type": "code",
   "execution_count": 24,
   "id": "b908b56a",
   "metadata": {},
   "outputs": [
    {
     "data": {
      "text/plain": [
       "[1, 2, 3]"
      ]
     },
     "execution_count": 24,
     "metadata": {},
     "output_type": "execute_result"
    }
   ],
   "source": [
    "l=['ani','a','b','c',1,2,3]\n",
    "only_num(l)"
   ]
  },
  {
   "cell_type": "code",
   "execution_count": 25,
   "id": "9b2010c8",
   "metadata": {},
   "outputs": [],
   "source": [
    "def repeat(p):\n",
    "    k=list(p)\n",
    "    m=[]\n",
    "    for i in k:\n",
    "        m.append(i)\n",
    "        m.append(i)\n",
    "    return ''.join(m)\n"
   ]
  },
  {
   "cell_type": "code",
   "execution_count": 26,
   "id": "41139a41",
   "metadata": {},
   "outputs": [
    {
     "data": {
      "text/plain": [
       "'aannii'"
      ]
     },
     "execution_count": 26,
     "metadata": {},
     "output_type": "execute_result"
    }
   ],
   "source": [
    "repeat('ani')"
   ]
  },
  {
   "cell_type": "code",
   "execution_count": null,
   "id": "9c6a550d",
   "metadata": {},
   "outputs": [],
   "source": []
  }
 ],
 "metadata": {
  "kernelspec": {
   "display_name": "Python 3 (ipykernel)",
   "language": "python",
   "name": "python3"
  },
  "language_info": {
   "codemirror_mode": {
    "name": "ipython",
    "version": 3
   },
   "file_extension": ".py",
   "mimetype": "text/x-python",
   "name": "python",
   "nbconvert_exporter": "python",
   "pygments_lexer": "ipython3",
   "version": "3.8.3"
  }
 },
 "nbformat": 4,
 "nbformat_minor": 5
}
